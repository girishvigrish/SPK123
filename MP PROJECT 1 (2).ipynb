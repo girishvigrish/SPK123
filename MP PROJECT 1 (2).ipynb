{
 "cells": [
  {
   "cell_type": "markdown",
   "id": "ce246917",
   "metadata": {},
   "source": [
    "# Supervised Machine Learning\n",
    "1.TASK: predict the percentage of an student based the no.of studyhours 2.LIBRARIES USED:numpy,matplotlib,pandas,seaborn,scikit-learn 3.DATABASE USED:student score database\n",
    "\n",
    "link:GIRISH VIGRISH.P\n",
    "\n",
    "1.youtube: 2.github: 3.dataset:https://raw.githubusercontent.com/AdiPersonalWorks/Random/master/student_scores%20-%20student_scores.csv"
   ]
  },
  {
   "cell_type": "code",
   "execution_count": 70,
   "id": "5df1d9b2",
   "metadata": {},
   "outputs": [],
   "source": [
    "#Importing all libraries required in this notebook\n",
    "import pandas as pd\n",
    "import numpy as np\n",
    "import matplotlib.pyplot as plt\n",
    "%matplotlib inline"
   ]
  },
  {
   "cell_type": "code",
   "execution_count": 108,
   "id": "1c181e6c",
   "metadata": {},
   "outputs": [
    {
     "name": "stdout",
     "output_type": "stream",
     "text": [
      "Data read Successfully\n"
     ]
    },
    {
     "data": {
      "text/html": [
       "<div>\n",
       "<style scoped>\n",
       "    .dataframe tbody tr th:only-of-type {\n",
       "        vertical-align: middle;\n",
       "    }\n",
       "\n",
       "    .dataframe tbody tr th {\n",
       "        vertical-align: top;\n",
       "    }\n",
       "\n",
       "    .dataframe thead th {\n",
       "        text-align: right;\n",
       "    }\n",
       "</style>\n",
       "<table border=\"1\" class=\"dataframe\">\n",
       "  <thead>\n",
       "    <tr style=\"text-align: right;\">\n",
       "      <th></th>\n",
       "      <th>Hours</th>\n",
       "      <th>Scores</th>\n",
       "    </tr>\n",
       "  </thead>\n",
       "  <tbody>\n",
       "    <tr>\n",
       "      <th>0</th>\n",
       "      <td>2.5</td>\n",
       "      <td>21</td>\n",
       "    </tr>\n",
       "    <tr>\n",
       "      <th>1</th>\n",
       "      <td>5.1</td>\n",
       "      <td>47</td>\n",
       "    </tr>\n",
       "    <tr>\n",
       "      <th>2</th>\n",
       "      <td>3.2</td>\n",
       "      <td>27</td>\n",
       "    </tr>\n",
       "    <tr>\n",
       "      <th>3</th>\n",
       "      <td>8.5</td>\n",
       "      <td>75</td>\n",
       "    </tr>\n",
       "    <tr>\n",
       "      <th>4</th>\n",
       "      <td>3.5</td>\n",
       "      <td>30</td>\n",
       "    </tr>\n",
       "    <tr>\n",
       "      <th>5</th>\n",
       "      <td>1.5</td>\n",
       "      <td>20</td>\n",
       "    </tr>\n",
       "    <tr>\n",
       "      <th>6</th>\n",
       "      <td>9.2</td>\n",
       "      <td>88</td>\n",
       "    </tr>\n",
       "    <tr>\n",
       "      <th>7</th>\n",
       "      <td>5.5</td>\n",
       "      <td>60</td>\n",
       "    </tr>\n",
       "    <tr>\n",
       "      <th>8</th>\n",
       "      <td>8.3</td>\n",
       "      <td>81</td>\n",
       "    </tr>\n",
       "    <tr>\n",
       "      <th>9</th>\n",
       "      <td>2.7</td>\n",
       "      <td>25</td>\n",
       "    </tr>\n",
       "    <tr>\n",
       "      <th>10</th>\n",
       "      <td>7.7</td>\n",
       "      <td>85</td>\n",
       "    </tr>\n",
       "    <tr>\n",
       "      <th>11</th>\n",
       "      <td>5.9</td>\n",
       "      <td>62</td>\n",
       "    </tr>\n",
       "  </tbody>\n",
       "</table>\n",
       "</div>"
      ],
      "text/plain": [
       "    Hours  Scores\n",
       "0     2.5      21\n",
       "1     5.1      47\n",
       "2     3.2      27\n",
       "3     8.5      75\n",
       "4     3.5      30\n",
       "5     1.5      20\n",
       "6     9.2      88\n",
       "7     5.5      60\n",
       "8     8.3      81\n",
       "9     2.7      25\n",
       "10    7.7      85\n",
       "11    5.9      62"
      ]
     },
     "execution_count": 108,
     "metadata": {},
     "output_type": "execute_result"
    }
   ],
   "source": [
    "#Reading data from remote link\n",
    "import pandas as pd\n",
    "url=\"https://raw.githubusercontent.com/AdiPersonalWorks/Random/master/student_scores%20-%20student_scores.csv\"\n",
    "data=pd.read_csv(url)\n",
    "print(\"Data read Successfully\")\n",
    "data.head(12)"
   ]
  },
  {
   "cell_type": "markdown",
   "id": "1646a567",
   "metadata": {},
   "source": [
    "# As there is no null values in the dataset,we can now visualize our data and seeif we can manually find any relationship between the data"
   ]
  },
  {
   "cell_type": "code",
   "execution_count": 109,
   "id": "0d6cec26",
   "metadata": {},
   "outputs": [
    {
     "data": {
      "image/png": "[encoded data removed]",
      "text/plain": [
       "<Figure size 432x288 with 1 Axes>"
      ]
     },
     "metadata": {
      "needs_background": "light"
     },
     "output_type": "display_data"
    }
   ],
   "source": [
    "#Plotting the distribution of scores\n",
    "import matplotlib.pyplot as plt\n",
    "data.plot(x='Hours',y='Scores',style='x')\n",
    "plt.title('Hours vs Percentage')\n",
    "plt.xlabel('Hours Studied')\n",
    "plt.ylabel('Percentage Score')\n",
    "plt.show()\n"
   ]
  },
  {
   "cell_type": "markdown",
   "id": "4e45f174",
   "metadata": {},
   "source": [
    "# From the above graph ,we can clearly see that there is positive linear relation between the\"Numbers of hours studied\"and \"Percentage of score\""
   ]
  },
  {
   "cell_type": "code",
   "execution_count": 110,
   "id": "b05ea78f",
   "metadata": {},
   "outputs": [],
   "source": [
    "#Preparing the data\n",
    "x=data.iloc[:, :-1].values\n",
    "y=data.iloc[:, 1].values\n"
   ]
  },
  {
   "cell_type": "markdown",
   "id": "5cfa7fe6",
   "metadata": {},
   "source": [
    "# Now we have the attributes and labels,the next step to split the data into training and test sets.we'll here using scikit-learn's train_test_split()method:"
   ]
  },
  {
   "cell_type": "code",
   "execution_count": 111,
   "id": "e5b0380a",
   "metadata": {},
   "outputs": [],
   "source": [
    "from sklearn.model_selection import train_test_split\n",
    "x_train, x_test, y_train, y_test=train_test_split(x,y,test_size=0.25, random_state=1)"
   ]
  },
  {
   "cell_type": "code",
   "execution_count": 112,
   "id": "7c5dee4e",
   "metadata": {},
   "outputs": [],
   "source": [
    "from sklearn.linear_model import LinearRegression"
   ]
  },
  {
   "cell_type": "code",
   "execution_count": 113,
   "id": "93e30c6c",
   "metadata": {},
   "outputs": [],
   "source": [
    "lr=LinearRegression()"
   ]
  },
  {
   "cell_type": "code",
   "execution_count": 114,
   "id": "72596c51",
   "metadata": {},
   "outputs": [
    {
     "data": {
      "text/plain": [
       "LinearRegression()"
      ]
     },
     "execution_count": 114,
     "metadata": {},
     "output_type": "execute_result"
    }
   ],
   "source": [
    "lr.fit(x_train,y_train)\n",
    "\n"
   ]
  },
  {
   "cell_type": "code",
   "execution_count": 115,
   "id": "bbc4817b",
   "metadata": {},
   "outputs": [
    {
     "data": {
      "text/plain": [
       "0.965781943975883"
      ]
     },
     "execution_count": 115,
     "metadata": {},
     "output_type": "execute_result"
    }
   ],
   "source": [
    "lr.score(x_train,y_train)"
   ]
  },
  {
   "cell_type": "code",
   "execution_count": 116,
   "id": "68c72f3a",
   "metadata": {},
   "outputs": [
    {
     "data": {
      "text/plain": [
       "0.8980888932690286"
      ]
     },
     "execution_count": 116,
     "metadata": {},
     "output_type": "execute_result"
    }
   ],
   "source": [
    "lr.score(x_test,y_test)"
   ]
  },
  {
   "cell_type": "code",
   "execution_count": 117,
   "id": "724b2393",
   "metadata": {},
   "outputs": [],
   "source": [
    "pred=lr.predict(x_test)"
   ]
  },
  {
   "cell_type": "code",
   "execution_count": 118,
   "id": "1e4153ac",
   "metadata": {},
   "outputs": [],
   "source": [
    "from sklearn.metrics import mean_squared_error,mean_absolute_error"
   ]
  },
  {
   "cell_type": "code",
   "execution_count": 119,
   "id": "978a66a4",
   "metadata": {},
   "outputs": [
    {
     "name": "stdout",
     "output_type": "stream",
     "text": [
      "57.59433403253181\n"
     ]
    }
   ],
   "source": [
    "print(mean_squared_error(pred,y_test))"
   ]
  },
  {
   "cell_type": "code",
   "execution_count": 120,
   "id": "c9cd541e",
   "metadata": {},
   "outputs": [
    {
     "name": "stdout",
     "output_type": "stream",
     "text": [
      "7.589093096841797\n"
     ]
    }
   ],
   "source": [
    "print(np.sqrt(mean_squared_error(pred,y_test)))"
   ]
  },
  {
   "cell_type": "markdown",
   "id": "ec1450b1",
   "metadata": {},
   "source": [
    "# Training the Algorithm¶\n",
    "#we have to split our data into training and testing sets and now finally the time to train the algorithm"
   ]
  },
  {
   "cell_type": "code",
   "execution_count": 121,
   "id": "95ca72ca",
   "metadata": {},
   "outputs": [
    {
     "name": "stdout",
     "output_type": "stream",
     "text": [
      "Training complete.\n"
     ]
    }
   ],
   "source": [
    "from sklearn.linear_model import LinearRegression\n",
    "regressor = LinearRegression()\n",
    "regressor.fit(x_train, y_train)\n",
    "print(\"Training complete.\")"
   ]
  },
  {
   "cell_type": "code",
   "execution_count": 122,
   "id": "4c4cd106",
   "metadata": {},
   "outputs": [
    {
     "data": {
      "image/png": "[encoded data removed]",
      "text/plain": [
       "<Figure size 432x288 with 1 Axes>"
      ]
     },
     "metadata": {
      "needs_background": "light"
     },
     "output_type": "display_data"
    }
   ],
   "source": [
    "#plotting the regression line\n",
    "line = regressor.coef_*x+regressor.intercept_\n",
    "\n",
    "#plotting for the test data\n",
    "plt.scatter(x, y)\n",
    "plt.plot(x, line);\n",
    "plt.show()"
   ]
  },
  {
   "cell_type": "markdown",
   "id": "5bb8c8c6",
   "metadata": {},
   "source": [
    "# Making Predictions\n",
    "#we trained the algorithm,it's time to make the predictions"
   ]
  },
  {
   "cell_type": "code",
   "execution_count": 123,
   "id": "4a5d7ce4",
   "metadata": {},
   "outputs": [
    {
     "name": "stdout",
     "output_type": "stream",
     "text": [
      "[[1.1]\n",
      " [3.3]\n",
      " [1.9]\n",
      " [8.5]\n",
      " [4.8]\n",
      " [7.7]\n",
      " [6.1]]\n"
     ]
    }
   ],
   "source": [
    "print(x_test)# Testing data -In hours\n",
    "y_pred = regressor.predict(x_test)#predicting the scores\n"
   ]
  },
  {
   "cell_type": "code",
   "execution_count": 124,
   "id": "1354232f",
   "metadata": {},
   "outputs": [],
   "source": [
    "#you can also test with your own data\n",
    "hours= [[9.25]]"
   ]
  },
  {
   "cell_type": "code",
   "execution_count": 125,
   "id": "ac219dcf",
   "metadata": {},
   "outputs": [],
   "source": [
    "pred2 = lr.predict(hours)\n"
   ]
  },
  {
   "cell_type": "code",
   "execution_count": 126,
   "id": "0bef8858",
   "metadata": {},
   "outputs": [
    {
     "data": {
      "text/plain": [
       "array([93.82965552])"
      ]
     },
     "execution_count": 126,
     "metadata": {},
     "output_type": "execute_result"
    }
   ],
   "source": [
    "pred2"
   ]
  },
  {
   "cell_type": "markdown",
   "id": "2f189b95",
   "metadata": {},
   "source": [
    "# NO of hours 9.38 and predicted score is 94.68"
   ]
  },
  {
   "cell_type": "code",
   "execution_count": null,
   "id": "8ae5feff",
   "metadata": {},
   "outputs": [],
   "source": []
  },
  {
   "cell_type": "code",
   "execution_count": null,
   "id": "250afbea",
   "metadata": {},
   "outputs": [],
   "source": []
  }
 ],
 "metadata": {
  "kernelspec": {
   "display_name": "Python 3",
   "language": "python",
   "name": "python3"
  },
  "language_info": {
   "codemirror_mode": {
    "name": "ipython",
    "version": 3
   },
   "file_extension": ".py",
   "mimetype": "text/x-python",
   "name": "python",
   "nbconvert_exporter": "python",
   "pygments_lexer": "ipython3",
   "version": "3.8.8"
  }
 },
 "nbformat": 4,
 "nbformat_minor": 5
}
